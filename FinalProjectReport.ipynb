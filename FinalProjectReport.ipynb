{
 "cells": [
  {
   "cell_type": "markdown",
   "metadata": {},
   "source": [
    "<h1> Introduction/Business Problem </h1>"
   ]
  },
  {
   "cell_type": "markdown",
   "metadata": {},
   "source": [
    "<h2> 1. Introduction </h2>"
   ]
  },
  {
   "cell_type": "markdown",
   "metadata": {},
   "source": [
    "<b> Toronto is the provincial capital of Ontario and the most populous city in Canada, with a population of 2,731,571 in \n",
    "2016.\n",
    "    Current to 2016, the Toronto census metropolitan area (CMA), of which the majority is within the Greater Toronto \n",
    "Area (GTA), held a population of 5,928,040, making it Canada's most populous CMA. \n",
    "    Toronto is the fastest growing city in North America,[13] and is the anchor of an urban agglomeration, known as the Golden Horseshoe in Southern Ontario, located on the northwestern shore of Lake Ontario.\n",
    "    Toronto is an international centre of business, finance, arts, and \n",
    "culture, and is recognized as one of the most multicultural and cosmopolitan cities in the world.\n",
    "   As you can see from the figures, toronto is a city with a high population and population density. Being such a crowded city \n",
    "leads the owners of shops and social sharing places in the city where the population is dense. When we think of it by the investor,\n",
    "we expect from them to prefer the districts where there is a lower real estate cost and the type of business they want to install \n",
    "is less intense </b>"
   ]
  },
  {
   "cell_type": "markdown",
   "metadata": {},
   "source": [
    "<h2> 2. Business Problem </h2>"
   ]
  },
  {
   "cell_type": "markdown",
   "metadata": {},
   "source": [
    "<b>  In a region like this where the population is higher there is better chance for business .But one should be abel to select the\n",
    "best place to start the business.Instead of selecting with an basic essumption it whould be nice to use the data relating to the\n",
    "near by venues in particular neighborhood (needed by the coustmer) and providing him the best areas to open his/her business. </b>"
   ]
  },
  {
   "cell_type": "markdown",
   "metadata": {},
   "source": [
    "<h1> Data Section </h1>"
   ]
  },
  {
   "cell_type": "markdown",
   "metadata": {},
   "source": [
    "<h2> 1. Data Sources </h2>"
   ]
  },
  {
   "cell_type": "markdown",
   "metadata": {},
   "source": [
    "1.Data of neighborhoods and respective postal codes are gathered by scraping the web page(wikipedia page) <br><br>\n",
    "2.Using the postal codes the latitude and longitude locations of that respective neighborhoods are gathered from a \".csv\" file provided in the internet. or Can also be obtained using geocoder packeg of python.<br><br>\n",
    "3.Data relating to the venues in a certain neighborhood according to the postal codes are gathered using the API of FOURSQUERE<br><br>"
   ]
  },
  {
   "cell_type": "markdown",
   "metadata": {},
   "source": [
    "<h2> 2. Data Cleaning </h2>"
   ]
  },
  {
   "cell_type": "markdown",
   "metadata": {},
   "source": [
    "1.The data obtained from the wikipedia page is taken as html text at first so it taken into a pandas data frame.\n",
    "Then the rows with 'Borough' as 'Not assigned' are droped.\n",
    "all the rows with 'Neiborhood' feature as 'Not assined' are replaced with it 'Borough' feature.\n",
    "grouped according to the postal codes.<br><br>\n",
    "\n",
    "2.The \".csv\" file is converted to a data frame .\n",
    "latitude and longitude are filtered out according to the postal codes and are stored in 'latitude' ,'longitude' features of the previous data frame.<br>"
   ]
  },
  {
   "cell_type": "code",
   "execution_count": null,
   "metadata": {},
   "outputs": [],
   "source": []
  }
 ],
 "metadata": {
  "kernelspec": {
   "display_name": "Python 3",
   "language": "python",
   "name": "python3"
  },
  "language_info": {
   "codemirror_mode": {
    "name": "ipython",
    "version": 3
   },
   "file_extension": ".py",
   "mimetype": "text/x-python",
   "name": "python",
   "nbconvert_exporter": "python",
   "pygments_lexer": "ipython3",
   "version": "3.6.4"
  }
 },
 "nbformat": 4,
 "nbformat_minor": 2
}
